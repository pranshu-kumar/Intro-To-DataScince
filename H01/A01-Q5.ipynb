{
 "cells": [
  {
   "cell_type": "markdown",
   "metadata": {},
   "source": [
    "# Assignment 01 | Question 05\n",
    "\n",
    "**Question**\n",
    "For the following question you need to submit a link to a recorded video, YouTube link is preferable (can be unlisted). We intend to link to these videos from our public course webpage.\n",
    "\n",
    "Go through the video at https://www.youtube.com/watch?v=hVimVzgtD6w. There are number of libraries to create such visualization: one example is GapMinder animation, another is Plotly. Choose any dataset from any of the following websites:\n",
    "* https://www.gapminder.org/data/\n",
    "* http://www.healthdata.org/data-visualization/gbd-compare or http://ghdx.healthdata.org/gbd-2017 (in Select Articles there are folder with data).\n",
    "* https://niti.gov.in/state-statistics.\n",
    "\n",
    "Take any two parameters, and either a number of Indian states, or a number of countries including India.\n",
    "Then create such a visualization. We rely on you to choose two parameters that make a somewhat\n",
    "interesting story as Hans Rosling does. If you want to use datasets about pandemic that is also fine —\n",
    "either come up with suggestions, or reach out to us.\n",
    "Note that you have to be sometimes careful about missing data, data formatting etc these are all part of\n",
    "the problem. Document what problems you faced and what you did to handle these."
   ]
  },
  {
   "cell_type": "markdown",
   "metadata": {},
   "source": [
    "---\n",
    "# Dataset Used\n",
    "\n",
    "The datasets used are, \n",
    "1. The number of internet users between the years **1990-2019**\n",
    "2. The population dataset between the years **1850-2100** (estimated values for the coming years)\n",
    "\n",
    "> Datasets taken from [GapMinder](https://www.gapminder.org/data/)\n",
    "\n",
    "---"
   ]
  },
  {
   "cell_type": "markdown",
   "metadata": {},
   "source": [
    "## Import Libraries"
   ]
  },
  {
   "cell_type": "code",
   "execution_count": 147,
   "metadata": {},
   "outputs": [],
   "source": [
    "import numpy as np\n",
    "import pandas as pd\n",
    "import matplotlib.pyplot as plt\n",
    "my_dpi = 96"
   ]
  },
  {
   "cell_type": "code",
   "execution_count": 48,
   "metadata": {},
   "outputs": [
    {
     "name": "stdout",
     "output_type": "stream",
     "text": [
      "Collecting plotly_express\n",
      "  Downloading plotly_express-0.4.1-py2.py3-none-any.whl (2.9 kB)\n",
      "Requirement already satisfied: scipy>=0.18 in /home/pranshu/anaconda3/lib/python3.7/site-packages (from plotly_express) (1.4.1)\n",
      "Collecting plotly>=4.1.0\n",
      "  Downloading plotly-4.14.3-py2.py3-none-any.whl (13.2 MB)\n",
      "\u001b[K     |████████████████████████████████| 13.2 MB 268 kB/s eta 0:00:01\n",
      "\u001b[?25hRequirement already satisfied: statsmodels>=0.9.0 in /home/pranshu/anaconda3/lib/python3.7/site-packages (from plotly_express) (0.11.0)\n",
      "Requirement already satisfied: patsy>=0.5 in /home/pranshu/anaconda3/lib/python3.7/site-packages (from plotly_express) (0.5.1)\n",
      "Requirement already satisfied: pandas>=0.20.0 in /home/pranshu/anaconda3/lib/python3.7/site-packages (from plotly_express) (1.0.1)\n",
      "Requirement already satisfied: numpy>=1.11 in /home/pranshu/anaconda3/lib/python3.7/site-packages (from plotly_express) (1.18.1)\n",
      "Requirement already satisfied: six in /home/pranshu/anaconda3/lib/python3.7/site-packages (from plotly>=4.1.0->plotly_express) (1.14.0)\n",
      "Collecting retrying>=1.3.3\n",
      "  Downloading retrying-1.3.3.tar.gz (10 kB)\n",
      "Requirement already satisfied: python-dateutil>=2.6.1 in /home/pranshu/anaconda3/lib/python3.7/site-packages (from pandas>=0.20.0->plotly_express) (2.8.1)\n",
      "Requirement already satisfied: pytz>=2017.2 in /home/pranshu/anaconda3/lib/python3.7/site-packages (from pandas>=0.20.0->plotly_express) (2019.3)\n",
      "Building wheels for collected packages: retrying\n",
      "  Building wheel for retrying (setup.py) ... \u001b[?25ldone\n",
      "\u001b[?25h  Created wheel for retrying: filename=retrying-1.3.3-py3-none-any.whl size=11430 sha256=7c69ce9159db5ed9b037417f7a19ed727a65f2b73deb0e9289d7d2f1f4b6fdf8\n",
      "  Stored in directory: /home/pranshu/.cache/pip/wheels/f9/8d/8d/f6af3f7f9eea3553bc2fe6d53e4b287dad18b06a861ac56ddf\n",
      "Successfully built retrying\n",
      "Installing collected packages: retrying, plotly, plotly-express\n",
      "Successfully installed plotly-4.14.3 plotly-express-0.4.1 retrying-1.3.3\n"
     ]
    }
   ],
   "source": [
    "# DO NOT RUN THIS CELL IF PLOTLY ALREADY INSTALLED\n",
    "!pip install plotly_express"
   ]
  },
  {
   "cell_type": "code",
   "execution_count": 49,
   "metadata": {},
   "outputs": [],
   "source": [
    "import plotly_express as px"
   ]
  },
  {
   "cell_type": "markdown",
   "metadata": {},
   "source": [
    "## Import Dataset"
   ]
  },
  {
   "cell_type": "code",
   "execution_count": 131,
   "metadata": {},
   "outputs": [
    {
     "name": "stdout",
     "output_type": "stream",
     "text": [
      "(195, 302) (194, 31)\n"
     ]
    }
   ],
   "source": [
    "pop_data = pd.read_csv(\"population_total.csv\")\n",
    "num_inter_data = pd.read_csv(\"net_users_num.csv\")\n",
    "print(pop_data.shape, num_inter_data.shape)"
   ]
  },
  {
   "cell_type": "markdown",
   "metadata": {},
   "source": [
    "## Data Formatting"
   ]
  },
  {
   "cell_type": "markdown",
   "metadata": {},
   "source": [
    "### Removing the *NaN* values \n",
    "\n",
    "From the *number of internet users dataset*, I removed the NaN entries with 0. Any entry with a *NaN* value will be regarded as if there were no internet user that year. \n",
    "There were no NaN values in the *Total Population Dataset*"
   ]
  },
  {
   "cell_type": "code",
   "execution_count": null,
   "metadata": {},
   "outputs": [],
   "source": [
    "# Replace NaN values in both the datasets with 0\n",
    "# pop_data = pop_data.fillna(0)\n",
    "num_inter_data = num_inter_data.fillna(0)"
   ]
  },
  {
   "cell_type": "markdown",
   "metadata": {},
   "source": [
    "### Removing years\n",
    "Since, the *Total Population Dataset* has data from years ranging between *1850-2100* and *Number of internet users* has data ranging from *1990-2019*, I kept only the columns of years ranging from *1990-2019* to have a uniformity in the dataset"
   ]
  },
  {
   "cell_type": "code",
   "execution_count": 133,
   "metadata": {},
   "outputs": [
    {
     "name": "stdout",
     "output_type": "stream",
     "text": [
      "(195, 31) (194, 31)\n"
     ]
    }
   ],
   "source": [
    "years = []\n",
    "not_years = []\n",
    "for year in pop_data.iloc[:,1:]:\n",
    "    if year in num_inter_data.iloc[:,1:].columns:\n",
    "        years.append(year)\n",
    "    else:\n",
    "        not_years.append(year)\n",
    "        \n",
    "years = pd.Series(years)\n",
    "\n",
    "# Drop years from pop_data\n",
    "pop_data = pop_data.drop(not_years,axis=1)\n",
    "print(pop_data.shape, num_inter_data.shape)"
   ]
  },
  {
   "cell_type": "markdown",
   "metadata": {},
   "source": [
    "### Dropping Countries\n",
    "In the following lines of code, I check what all countries are present in the *Number of internet users dataset* but not present in *Total Population Dataset*. \n",
    "\n",
    "I remove those countries from the *Total Population Dataset*"
   ]
  },
  {
   "cell_type": "code",
   "execution_count": 134,
   "metadata": {},
   "outputs": [],
   "source": [
    "# # Drop countries that are not in the mental health dataset\n",
    "drop_countries = []\n",
    "for country in pop_data['country']:\n",
    "    if country not in list(num_inter_data['country']):\n",
    "        drop_countries.append(country)\n",
    "for c in drop_countries:\n",
    "    pop_data = pop_data.drop(pop_data[pop_data['country'] == c].index).reset_index(drop=True)"
   ]
  },
  {
   "cell_type": "markdown",
   "metadata": {},
   "source": [
    "### Narrowing Down the number of countries\n",
    "\n",
    "> **This step can be discarded or ignored as per user's choice**\n",
    "\n",
    "In the following lines of code, I remove all the countries that have **less than 25M internet users in the year 2019**\n",
    "\n",
    "I did this to have a bit more clarity in the final plot. Since there were 194 countries in consideration, the plot was crowded with scatter points that were firstly, unnecessary and secondly, quite messy!"
   ]
  },
  {
   "cell_type": "code",
   "execution_count": 146,
   "metadata": {},
   "outputs": [],
   "source": [
    "# Drop countries that have less than 25M users in the year 2019\n",
    "drop_countries = []\n",
    "for idx, row in num_inter_data.iterrows():\n",
    "    if row['2019'] < 25000000:\n",
    "        drop_countries.append(row['country'])"
   ]
  },
  {
   "cell_type": "code",
   "execution_count": 136,
   "metadata": {},
   "outputs": [
    {
     "name": "stdout",
     "output_type": "stream",
     "text": [
      "(32, 31) (32, 31)\n"
     ]
    }
   ],
   "source": [
    "for c in drop_countries:\n",
    "#     print(num_inter_data.head())\n",
    "    pop_data = pop_data.drop(pop_data[pop_data['country'] == c].index).reset_index(drop=True)\n",
    "    num_inter_data = num_inter_data.drop(num_inter_data[num_inter_data['country'] == c].index).reset_index(drop=True)\n",
    "print(pop_data.shape, num_inter_data.shape)"
   ]
  },
  {
   "cell_type": "markdown",
   "metadata": {},
   "source": [
    "## Create New Dataset\n",
    "\n",
    "In the following lines of code, I create the final dataset which will be used later for plotting. \n",
    "The dataset will have the following columns, \n",
    "1. **country** - The column containing all the countries\n",
    "2. **year** - The years from 1990-2019 (For each country)\n",
    "3. **pop** - The population of a country in a particular year\n",
    "4. **num_users** - The number of internet users of a country in a particular year"
   ]
  },
  {
   "cell_type": "code",
   "execution_count": 121,
   "metadata": {},
   "outputs": [
    {
     "name": "stdout",
     "output_type": "stream",
     "text": [
      "(32, 31) (32, 31)\n"
     ]
    }
   ],
   "source": [
    "pop_data.iloc[0:1,:].T.iloc[1:,:].reset_index(drop=True)\n",
    "pop_data.T\n",
    "print(pop_data.shape, num_inter_data.shape)"
   ]
  },
  {
   "cell_type": "code",
   "execution_count": 137,
   "metadata": {},
   "outputs": [
    {
     "data": {
      "text/html": [
       "<div>\n",
       "<style scoped>\n",
       "    .dataframe tbody tr th:only-of-type {\n",
       "        vertical-align: middle;\n",
       "    }\n",
       "\n",
       "    .dataframe tbody tr th {\n",
       "        vertical-align: top;\n",
       "    }\n",
       "\n",
       "    .dataframe thead th {\n",
       "        text-align: right;\n",
       "    }\n",
       "</style>\n",
       "<table border=\"1\" class=\"dataframe\">\n",
       "  <thead>\n",
       "    <tr style=\"text-align: right;\">\n",
       "      <th></th>\n",
       "      <th>country</th>\n",
       "      <th>year</th>\n",
       "      <th>pop</th>\n",
       "      <th>num_users</th>\n",
       "    </tr>\n",
       "  </thead>\n",
       "  <tbody>\n",
       "    <tr>\n",
       "      <th>0</th>\n",
       "      <td>Algeria</td>\n",
       "      <td>1990</td>\n",
       "      <td>25800000</td>\n",
       "      <td>0</td>\n",
       "    </tr>\n",
       "    <tr>\n",
       "      <th>1</th>\n",
       "      <td>Algeria</td>\n",
       "      <td>1991</td>\n",
       "      <td>26400000</td>\n",
       "      <td>0</td>\n",
       "    </tr>\n",
       "    <tr>\n",
       "      <th>2</th>\n",
       "      <td>Algeria</td>\n",
       "      <td>1992</td>\n",
       "      <td>27000000</td>\n",
       "      <td>0</td>\n",
       "    </tr>\n",
       "    <tr>\n",
       "      <th>3</th>\n",
       "      <td>Algeria</td>\n",
       "      <td>1993</td>\n",
       "      <td>27600000</td>\n",
       "      <td>0</td>\n",
       "    </tr>\n",
       "    <tr>\n",
       "      <th>4</th>\n",
       "      <td>Algeria</td>\n",
       "      <td>1994</td>\n",
       "      <td>28200000</td>\n",
       "      <td>102</td>\n",
       "    </tr>\n",
       "    <tr>\n",
       "      <th>...</th>\n",
       "      <td>...</td>\n",
       "      <td>...</td>\n",
       "      <td>...</td>\n",
       "      <td>...</td>\n",
       "    </tr>\n",
       "    <tr>\n",
       "      <th>955</th>\n",
       "      <td>Vietnam</td>\n",
       "      <td>2015</td>\n",
       "      <td>92700000</td>\n",
       "      <td>4.17e+07</td>\n",
       "    </tr>\n",
       "    <tr>\n",
       "      <th>956</th>\n",
       "      <td>Vietnam</td>\n",
       "      <td>2016</td>\n",
       "      <td>93600000</td>\n",
       "      <td>4.96e+07</td>\n",
       "    </tr>\n",
       "    <tr>\n",
       "      <th>957</th>\n",
       "      <td>Vietnam</td>\n",
       "      <td>2017</td>\n",
       "      <td>94600000</td>\n",
       "      <td>5.5e+07</td>\n",
       "    </tr>\n",
       "    <tr>\n",
       "      <th>958</th>\n",
       "      <td>Vietnam</td>\n",
       "      <td>2018</td>\n",
       "      <td>95500000</td>\n",
       "      <td>6.72e+07</td>\n",
       "    </tr>\n",
       "    <tr>\n",
       "      <th>959</th>\n",
       "      <td>Vietnam</td>\n",
       "      <td>2019</td>\n",
       "      <td>96500000</td>\n",
       "      <td>6.63e+07</td>\n",
       "    </tr>\n",
       "  </tbody>\n",
       "</table>\n",
       "<p>960 rows × 4 columns</p>\n",
       "</div>"
      ],
      "text/plain": [
       "     country  year       pop num_users\n",
       "0    Algeria  1990  25800000         0\n",
       "1    Algeria  1991  26400000         0\n",
       "2    Algeria  1992  27000000         0\n",
       "3    Algeria  1993  27600000         0\n",
       "4    Algeria  1994  28200000       102\n",
       "..       ...   ...       ...       ...\n",
       "955  Vietnam  2015  92700000  4.17e+07\n",
       "956  Vietnam  2016  93600000  4.96e+07\n",
       "957  Vietnam  2017  94600000   5.5e+07\n",
       "958  Vietnam  2018  95500000  6.72e+07\n",
       "959  Vietnam  2019  96500000  6.63e+07\n",
       "\n",
       "[960 rows x 4 columns]"
      ]
     },
     "execution_count": 137,
     "metadata": {},
     "output_type": "execute_result"
    }
   ],
   "source": [
    "final_df = pd.DataFrame({\n",
    "    'country':[],\n",
    "    'year':[],\n",
    "    'pop':[],\n",
    "    'num_users':[]\n",
    "})\n",
    "# print(final_df)\n",
    "for i in range(num_inter_data.shape[0]):\n",
    "    pop_df = pop_data.iloc[i:i+1,:].T.iloc[1:,:].reset_index(drop=True)   \n",
    "    num_int_users = num_inter_data.iloc[i:i+1,:].T.iloc[1:,:].reset_index(drop=True)\n",
    "    countries = pd.Series(np.full((pop_data.shape[1]-1,), pop_data['country'][i]))\n",
    "    temp_df = pd.concat([countries, years, pop_df, num_int_users], axis=1)\n",
    "    temp_df.columns = ['country','year','pop', 'num_users']\n",
    "    final_df = final_df.append(temp_df)\n",
    "final_df = final_df.reset_index(drop=True)\n",
    "final_df"
   ]
  },
  {
   "cell_type": "code",
   "execution_count": 138,
   "metadata": {},
   "outputs": [],
   "source": [
    "# Save to a csv file\n",
    "# NOT NECESSARY\n",
    "final_df.to_csv(\"final.csv\")"
   ]
  },
  {
   "cell_type": "markdown",
   "metadata": {},
   "source": [
    "## Plotting\n",
    "For plotting, I use the **plotly express** library. "
   ]
  },
  {
   "cell_type": "code",
   "execution_count": 139,
   "metadata": {},
   "outputs": [],
   "source": [
    "final_df['country'] = pd.Categorical(final_df['country'])"
   ]
  },
  {
   "cell_type": "code",
   "execution_count": 140,
   "metadata": {},
   "outputs": [
    {
     "name": "stdout",
     "output_type": "stream",
     "text": [
      "16200000 1430000000\n"
     ]
    }
   ],
   "source": [
    "print(final_df['pop'].min(),final_df['pop'].max())"
   ]
  },
  {
   "cell_type": "code",
   "execution_count": 142,
   "metadata": {},
   "outputs": [
    {
     "name": "stdout",
     "output_type": "stream",
     "text": [
      "0.0 779000000.0\n"
     ]
    }
   ],
   "source": [
    "print(final_df['num_users'].min(),final_df['num_users'].max())"
   ]
  },
  {
   "cell_type": "code",
   "execution_count": 143,
   "metadata": {},
   "outputs": [],
   "source": [
    "size = np.array(final_df['pop']/20000, dtype=\"float64\")"
   ]
  },
  {
   "cell_type": "code",
   "execution_count": 144,
   "metadata": {},
   "outputs": [],
   "source": [
    "fig=px.scatter(final_df, x=\"pop\", y=\"num_users\", animation_frame=\"year\", animation_group=\"country\",height=600,width=1000,\n",
    "           size=size, color=\"country\", hover_name=\"country\",size_max=50,log_x=True,log_y=False,text=\"country\",\n",
    "               range_x=[16000000,1440000000], range_y=[0,779000000], labels=dict(pop=\"Total Population\",\n",
    "                          num_users=\"Total number of internet users\"))"
   ]
  },
  {
   "cell_type": "code",
   "execution_count": 145,
   "metadata": {},
   "outputs": [
    {
     "data": {
      "text/plain": [
       "'temp-plot.html'"
      ]
     },
     "execution_count": 145,
     "metadata": {},
     "output_type": "execute_result"
    }
   ],
   "source": [
    "import plotly.graph_objs as go\n",
    "from plotly.offline import download_plotlyjs, init_notebook_mode, plot, iplot\n",
    "\n",
    "plot(fig)"
   ]
  },
  {
   "cell_type": "code",
   "execution_count": null,
   "metadata": {},
   "outputs": [],
   "source": []
  }
 ],
 "metadata": {
  "kernelspec": {
   "display_name": "Python 3",
   "language": "python",
   "name": "python3"
  },
  "language_info": {
   "codemirror_mode": {
    "name": "ipython",
    "version": 3
   },
   "file_extension": ".py",
   "mimetype": "text/x-python",
   "name": "python",
   "nbconvert_exporter": "python",
   "pygments_lexer": "ipython3",
   "version": "3.7.6"
  }
 },
 "nbformat": 4,
 "nbformat_minor": 4
}
