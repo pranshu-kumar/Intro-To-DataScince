{
 "cells": [
  {
   "cell_type": "markdown",
   "metadata": {},
   "source": [
    "# Assignment 01 | Question 04\n",
    "\n",
    "### Pranshu Kumar Gond, 18110124\n",
    "\n",
    "**Question**\n",
    "<br>Download the dataset in https://www.kaggle.com/arjunbhasin2013/ccdata. As a good practice, nor-\n",
    "malize each feature such that the values are all in the range [0, 1]. Treat the CUST ID column as the\n",
    "identity of the point, not a feature. Use the L2 metric as distance. Implement the greedy k-center algo-\n",
    "rithm for this data and report the k-center objective value for k = 2, 4, 10. For small values of k, say k =\n",
    "2, 4 , find the optimal (when the centers are restricted to be input points) and report the approximation\n",
    "factor obtained by the greedy algorithm."
   ]
  },
  {
   "cell_type": "markdown",
   "metadata": {},
   "source": [
    "## Importing Libraries"
   ]
  },
  {
   "cell_type": "code",
   "execution_count": 1,
   "metadata": {},
   "outputs": [],
   "source": [
    "import pandas as pd\n",
    "import numpy as np\n",
    "import matplotlib.pyplot as plt\n",
    "import random"
   ]
  },
  {
   "cell_type": "markdown",
   "metadata": {},
   "source": [
    "## The K-Center Class\n",
    "A class for the k-center model. uses the following functions \n",
    "1. `fit()` - Function for fitting the model on the training set (X)\n",
    "2. `predict()`- Function for fitting the model on the training set (X)\n",
    "3. `plot_results()`- Function for fitting the model on the training set (X)\n",
    "4. `__compute_dist()` - Function for fitting the model on the training set (X)"
   ]
  },
  {
   "cell_type": "code",
   "execution_count": 38,
   "metadata": {},
   "outputs": [],
   "source": [
    "class K_center:\n",
    "    \n",
    "    def __init__(self, k, X):\n",
    "        self.k = k\n",
    "        \n",
    "        self.ids = X.iloc[:,0].to_numpy()\n",
    "        self.X = X.iloc[:,1:].to_numpy()\n",
    "        \n",
    "        self.dist = np.full([self.X.shape[0],], np.inf)\n",
    "#         print(self.dist.shape, self.X.shape)\n",
    "        \n",
    "        # List of already chosen centers\n",
    "        self.already_chosen_centers = []\n",
    "        self.center_ids = []\n",
    "        self.radius_list = []\n",
    "        \n",
    "    def fit(self):\n",
    "        \n",
    "        \"\"\"\n",
    "        Function for fitting the model on the training set (X)\n",
    "            \n",
    "        \"\"\"\n",
    "        while len(self.already_chosen_centers) < self.k:\n",
    "            \n",
    "            if len(self.already_chosen_centers) == 0:\n",
    "                new_center_idx = random.choice(range(self.X.shape[0]))\n",
    "            else:\n",
    "                new_center_idx = np.argmax(self.dist)\n",
    "#                 print(new_center_idx)\n",
    "            \n",
    "            self.already_chosen_centers.append(self.X[new_center_idx])\n",
    "            self.center_ids.append(self.ids[new_center_idx])\n",
    "            \n",
    "            # Remove the new center from the self.dist array\n",
    "            self.dist = np.delete(self.dist, new_center_idx)\n",
    "            \n",
    "            # Update Distance \n",
    "            for i in range(len(self.dist)): \n",
    "                self.dist[i] = min(self.dist[i], self.__compute_dist(self.X[i], self.X[new_center_idx]))\n",
    "            \n",
    "#             print(self.dist)\n",
    "            # Get the max dist and update delta\n",
    "            # Delta is the objective value\n",
    "            delta = np.amax(self.dist)\n",
    "            \n",
    "        return self.center_ids, delta\n",
    "            \n",
    "           \n",
    "    def predict(self, X_test):\n",
    "        # Function for predicting outputs for the test set (X_test)\n",
    "        pass\n",
    "    \n",
    "    def plot_results(self):\n",
    "        # Function to plot the results\n",
    "        y_kmeans = self.already_chosen_centers\n",
    "        plt.scatter(self.X[:, 1], self.X[:, 0], s=50, cmap='viridis')\n",
    "        plt.scatter(self.already_chosen_centers[:,1], self.already_chosen_centers[:, 0], c='black', s=200, alpha=0.5)\n",
    "        plt.grid()\n",
    "        plt.show()\n",
    "    \n",
    "    def __compute_dist(self, a, b):\n",
    "        # Function to compute distance (using the L2 norm) between two vectors\n",
    "        return np.linalg.norm(a-b)"
   ]
  },
  {
   "cell_type": "markdown",
   "metadata": {},
   "source": [
    "## Import Dataset"
   ]
  },
  {
   "cell_type": "code",
   "execution_count": 3,
   "metadata": {},
   "outputs": [],
   "source": [
    "dataset = pd.read_csv(\"ccgeneral.csv\")\n",
    "dataset.head()\n",
    "cust_ids = dataset['CUST_ID']\n",
    "dataset = dataset.drop(['CUST_ID'], axis=1)\n",
    "# cust_ids"
   ]
  },
  {
   "cell_type": "code",
   "execution_count": 4,
   "metadata": {},
   "outputs": [
    {
     "data": {
      "text/plain": [
       "(8636, 17)"
      ]
     },
     "execution_count": 4,
     "metadata": {},
     "output_type": "execute_result"
    }
   ],
   "source": [
    "# Normalise Dataset\n",
    "normalised_dataset = dataset.apply(lambda x: (x - np.min(x)) / (np.max(x) - np.min(x)))\n",
    "\n",
    "# Add CUST_ID column\n",
    "normalised_dataset = pd.concat([cust_ids, normalised_dataset], axis=1)\n",
    "\n",
    "# Drop NaN valued columns\n",
    "normalised_dataset = normalised_dataset.dropna()\n",
    "cust_ids = normalised_dataset['CUST_ID'].to_numpy()\n",
    "\n",
    "X = normalised_dataset\n",
    "\n",
    "X.iloc[:,1:].to_numpy().shape"
   ]
  },
  {
   "cell_type": "markdown",
   "metadata": {},
   "source": [
    "## Running K-center Algorithm"
   ]
  },
  {
   "cell_type": "code",
   "execution_count": 43,
   "metadata": {},
   "outputs": [],
   "source": [
    "model = K_center(k=10, X=X)"
   ]
  },
  {
   "cell_type": "code",
   "execution_count": 44,
   "metadata": {},
   "outputs": [
    {
     "name": "stdout",
     "output_type": "stream",
     "text": [
      "(['C12163', 'C11300', 'C14047', 'C14048', 'C14639', 'C11346', 'C14961', 'C12827', 'C10144', 'C18038'], 1.4228045703293546)\n"
     ]
    }
   ],
   "source": [
    "print(model.fit())\n",
    "# model.plot_results()"
   ]
  },
  {
   "cell_type": "code",
   "execution_count": null,
   "metadata": {},
   "outputs": [],
   "source": []
  },
  {
   "cell_type": "code",
   "execution_count": null,
   "metadata": {},
   "outputs": [],
   "source": []
  }
 ],
 "metadata": {
  "kernelspec": {
   "display_name": "Python 3",
   "language": "python",
   "name": "python3"
  },
  "language_info": {
   "codemirror_mode": {
    "name": "ipython",
    "version": 3
   },
   "file_extension": ".py",
   "mimetype": "text/x-python",
   "name": "python",
   "nbconvert_exporter": "python",
   "pygments_lexer": "ipython3",
   "version": "3.7.6"
  }
 },
 "nbformat": 4,
 "nbformat_minor": 4
}
